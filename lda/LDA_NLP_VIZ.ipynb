{
 "cells": [
  {
   "cell_type": "markdown",
   "metadata": {},
   "source": [
    "# Notebook for Topic modeling visualization. \n",
    "<hr>\n",
    "<ul>\n",
    "    <li>This notebook is used for the process of social listening.</li>\n",
    "    <li> This notebook is used for vizualization of the topic modeling process on LDA_NLP.ipynb Notebook</li>\n",
    "    <li>This notebook is used for Topic clasification.</li>\n",
    "    <li>Initialy this notebook works with the output of LDA_NLP.ipynb Notebook</li>\n",
    "</ul>"
   ]
  },
  {
   "cell_type": "markdown",
   "metadata": {},
   "source": [
    "<h3>\n",
    "<b>Requirement</b>\n",
    "</h3>\n",
    "<hr>\n",
    "<ul>\n",
    "    <li> Are required NLP, NLP_viz and AI libraries.</li>\n",
    "    <li>Require at least one LDA model.</li>\n",
    "    <li>Require  procesed dataset.</li>\n",
    "    <li>Require metadata JSON from LDA_NPL.ipynb process</li>\n",
    "</ul>\n"
   ]
  },
  {
   "cell_type": "code",
   "execution_count": 1,
   "metadata": {},
   "outputs": [],
   "source": [
    "import sys\n",
    "import os\n",
    "\n",
    "# Get the parent directory of 'topology/'\n",
    "parent_dir = os.path.abspath(os.path.join(os.getcwd(), \"..\"))\n",
    "sys.path.append(parent_dir)  # Add 'parent/' to Python's path"
   ]
  },
  {
   "cell_type": "code",
   "execution_count": 2,
   "metadata": {},
   "outputs": [],
   "source": [
    "import config.m365.auth.microsoft_graph as mg"
   ]
  },
  {
   "cell_type": "code",
   "execution_count": 3,
   "metadata": {},
   "outputs": [
    {
     "name": "stdout",
     "output_type": "stream",
     "text": [
      "El directorio ya existe: C:/Users/Santi/Documents/atinna/repos/escuchas\\Azul\\espectro_politico\\2025-04-01_2025-04-30\\v3.0\n"
     ]
    }
   ],
   "source": [
    "from config import settings, paths\n",
    "from nlp_lda_optimized import *\n",
    "from nlp_viz_optimized import *\n",
    "from AI import *\n",
    "from dotenv import load_dotenv"
   ]
  },
  {
   "cell_type": "code",
   "execution_count": 4,
   "metadata": {},
   "outputs": [],
   "source": [
    "load_dotenv()\n",
    "openai_key = os.getenv(\"openai_api_key\")\n",
    "\n",
    "if not openai_key:\n",
    "    logger.warning(\"No OpenAI API key found. Topic naming will be skipped.\")"
   ]
  },
  {
   "cell_type": "code",
   "execution_count": 5,
   "metadata": {},
   "outputs": [
    {
     "name": "stdout",
     "output_type": "stream",
     "text": [
      "✅ Usando sesión existente para santiago.munera@atinna.co\n"
     ]
    }
   ],
   "source": [
    "# Autenticación\n",
    "token_response = mg.authenticate(client_id= settings.id_client, auth= settings.AUTHORITY, scopes= settings.GRAPH_SCOPES)\n",
    "headers = mg.get_headers(token_response)"
   ]
  },
  {
   "cell_type": "code",
   "execution_count": 6,
   "metadata": {},
   "outputs": [
    {
     "data": {
      "text/plain": [
       "'Azul/espectro_politico/2025-04-01_2025-04-30/v3.0'"
      ]
     },
     "execution_count": 6,
     "metadata": {},
     "output_type": "execute_result"
    }
   ],
   "source": [
    "f\"{settings.dir_cliente}/{settings.dir_escucha}/{settings.dir_periodo}/{settings.dir_version}\""
   ]
  },
  {
   "cell_type": "code",
   "execution_count": 7,
   "metadata": {},
   "outputs": [],
   "source": [
    "team_id = mg.get_team_id(headers, settings.dir_cliente) if headers else None\n",
    "sharepoint_site = mg.get_sharepoint_site(headers, team_id)\n",
    "site_id = sharepoint_site[\"id\"]\n",
    "drive_items = mg.get_drive_items(headers, site_id)\n",
    "dev_folder = next((file for file in drive_items if file[\"name\"].lower() == \"desarrollo\"), None)\n",
    "dev_folder_id = dev_folder[\"id\"]\n",
    "dev_files = mg.get_folder_contents(headers, site_id, dev_folder_id)"
   ]
  },
  {
   "cell_type": "code",
   "execution_count": 8,
   "metadata": {},
   "outputs": [],
   "source": [
    "os.makedirs(paths.paths['local']['output']['lda']['base'], exist_ok=True)\n",
    "os.makedirs(paths.paths['local']['output']['lda']['models'], exist_ok=True)\n",
    "os.makedirs(paths.paths['local']['output']['lda']['figures'], exist_ok=True)"
   ]
  },
  {
   "cell_type": "code",
   "execution_count": 9,
   "metadata": {},
   "outputs": [
    {
     "name": "stdout",
     "output_type": "stream",
     "text": [
      "ℹ️ La carpeta en SharePoint está vacía.\n"
     ]
    },
    {
     "data": {
      "text/plain": [
       "True"
      ]
     },
     "execution_count": 9,
     "metadata": {},
     "output_type": "execute_result"
    }
   ],
   "source": [
    "id_folder = mg.get_folder_id(headers, site_id, dev_folder_id, paths.paths['cloud']['output']['lda']['base'], separator=\"/\")\n",
    "mg.download_folder(headers, site_id, id_folder, paths.paths['local']['output']['lda']['base'],create_missing_dirs=True)"
   ]
  },
  {
   "cell_type": "markdown",
   "metadata": {},
   "source": [
    "<h1> Data Read</h1>"
   ]
  },
  {
   "cell_type": "code",
   "execution_count": 11,
   "metadata": {},
   "outputs": [
    {
     "name": "stderr",
     "output_type": "stream",
     "text": [
      "2025-05-29 18:52:29,409 - INFO - nlp_lda_optimized - json_read - JSON read: C:/Users/Santi/Documents/atinna/repos/escuchas\\Azul\\espectro_politico\\2025-04-01_2025-04-30\\v3.0\\lda\\metadata.json\n"
     ]
    },
    {
     "data": {
      "text/plain": [
       "dict_keys(['LDA_Config', 'Paths', 'Parameters', 'Data_Statistics', 'Execution_Times', 'System_Info', 'Timestamps'])"
      ]
     },
     "execution_count": 11,
     "metadata": {},
     "output_type": "execute_result"
    }
   ],
   "source": [
    "# Load metadata\n",
    "path_metadata = os.path.join(paths.paths['local']['output']['lda']['base'], \"metadata.json\")\n",
    "metadata = json_read(path_metadata)\n",
    "metadata.keys()"
   ]
  },
  {
   "cell_type": "code",
   "execution_count": 13,
   "metadata": {},
   "outputs": [
    {
     "data": {
      "text/plain": [
       "'C:/Users/Santi/Documents/atinna/repos/escuchas\\\\Azul\\\\espectro_politico\\\\2025-04-01_2025-04-30\\\\v3.0\\\\lda\\\\figures'"
      ]
     },
     "execution_count": 13,
     "metadata": {},
     "output_type": "execute_result"
    }
   ],
   "source": [
    "# Inputs from user.\n",
    "path_df_processed = os.path.join(paths.paths['local']['output']['lda']['base'], \"df_processed.parquet\")\n",
    "path_models = paths.paths['local']['output']['lda']['models']\n",
    "k = metadata[\"LDA_Config\"][\"Recommended_k\"]\n",
    "path_figures =paths.paths['local']['output']['lda']['figures']\n",
    "path_output = paths.paths['local']['output']['lda']['base']\n",
    "optimization = True\n",
    "contexto = \"Topicos obtenidos con LDA sobre los comentarios de redes sociales relacionados al espectro politico en colombia\"\n",
    "path_figures\n",
    "# contexto = 'The contexto of the proyect is : Estamos analizando la conversacion local sobre la salud en Colombia\"'"
   ]
  },
  {
   "cell_type": "code",
   "execution_count": 14,
   "metadata": {},
   "outputs": [
    {
     "name": "stderr",
     "output_type": "stream",
     "text": [
      "2025-05-29 19:16:30,644 - INFO - nlp_lda_optimized - local_reading - Reading data from: C:/Users/Santi/Documents/atinna/repos/escuchas\\Azul\\espectro_politico\\2025-04-01_2025-04-30\\v3.0\\lda\\df_processed.parquet with library: polars\n"
     ]
    },
    {
     "name": "stdout",
     "output_type": "stream",
     "text": [
      "(2237444, 9)\n"
     ]
    },
    {
     "data": {
      "text/html": [
       "<div><style>\n",
       ".dataframe > thead > tr,\n",
       ".dataframe > tbody > tr {\n",
       "  text-align: right;\n",
       "  white-space: pre-wrap;\n",
       "}\n",
       "</style>\n",
       "<small>shape: (3, 9)</small><table border=\"1\" class=\"dataframe\"><thead><tr><th>author</th><th>content</th><th>date</th><th>context</th><th>link</th><th>domain_group</th><th>country</th><th>type</th><th>processed</th></tr><tr><td>str</td><td>str</td><td>datetime[μs]</td><td>str</td><td>str</td><td>str</td><td>str</td><td>str</td><td>list[str]</td></tr></thead><tbody><tr><td>&quot;el paisa (@jhonprez60)&quot;</td><td>&quot;dios bendiga mi presidente 🙏&quot;</td><td>2025-04-10 23:58:54</td><td>&quot;🌎🧳 El presidente de Colombia, …</td><td>&quot;https://www.tiktok.com/@ltvhon…</td><td>&quot;TikTok&quot;</td><td>null</td><td>&quot;Comentario&quot;</td><td>[&quot;presidente&quot;]</td></tr><tr><td>null</td><td>&quot;Entre a los comentario como ve…</td><td>2025-04-10 23:58:53</td><td>&quot;00:11 ¡Calentando motores! Mar…</td><td>&quot;https://www.facebook.com/26301…</td><td>&quot;Facebook&quot;</td><td>&quot;co&quot;</td><td>&quot;Comentario&quot;</td><td>[&quot;comentario&quot;, &quot;mamerta&quot;, … &quot;arpia&quot;]</td></tr><tr><td>null</td><td>&quot;Fanny Mendoza FANNY LOS DEMAS …</td><td>2025-04-10 23:58:52</td><td>&quot;02:04 Ahora presidente de la C…</td><td>&quot;https://www.facebook.com/57266…</td><td>&quot;Facebook&quot;</td><td>&quot;co&quot;</td><td>&quot;Comentario&quot;</td><td>[&quot;fanny&quot;, &quot;izquierdo&quot;]</td></tr></tbody></table></div>"
      ],
      "text/plain": [
       "shape: (3, 9)\n",
       "┌────────────┬───────────┬───────────┬───────────┬───┬───────────┬─────────┬───────────┬───────────┐\n",
       "│ author     ┆ content   ┆ date      ┆ context   ┆ … ┆ domain_gr ┆ country ┆ type      ┆ processed │\n",
       "│ ---        ┆ ---       ┆ ---       ┆ ---       ┆   ┆ oup       ┆ ---     ┆ ---       ┆ ---       │\n",
       "│ str        ┆ str       ┆ datetime[ ┆ str       ┆   ┆ ---       ┆ str     ┆ str       ┆ list[str] │\n",
       "│            ┆           ┆ μs]       ┆           ┆   ┆ str       ┆         ┆           ┆           │\n",
       "╞════════════╪═══════════╪═══════════╪═══════════╪═══╪═══════════╪═════════╪═══════════╪═══════════╡\n",
       "│ el paisa   ┆ dios      ┆ 2025-04-1 ┆ 🌎🧳 El   ┆ … ┆ TikTok    ┆ null    ┆ Comentari ┆ [\"preside │\n",
       "│ (@jhonprez ┆ bendiga   ┆ 0         ┆ president ┆   ┆           ┆         ┆ o         ┆ nte\"]     │\n",
       "│ 60)        ┆ mi presid ┆ 23:58:54  ┆ e de      ┆   ┆           ┆         ┆           ┆           │\n",
       "│            ┆ ente 🙏   ┆           ┆ Colombia, ┆   ┆           ┆         ┆           ┆           │\n",
       "│            ┆           ┆           ┆ …         ┆   ┆           ┆         ┆           ┆           │\n",
       "│ null       ┆ Entre a   ┆ 2025-04-1 ┆ 00:11 ¡Ca ┆ … ┆ Facebook  ┆ co      ┆ Comentari ┆ [\"comenta │\n",
       "│            ┆ los comen ┆ 0         ┆ lentando  ┆   ┆           ┆         ┆ o         ┆ rio\", \"ma │\n",
       "│            ┆ tario     ┆ 23:58:53  ┆ motores!  ┆   ┆           ┆         ┆           ┆ merta\", … │\n",
       "│            ┆ como ve…  ┆           ┆ Mar…      ┆   ┆           ┆         ┆           ┆ \"a…       │\n",
       "│ null       ┆ Fanny     ┆ 2025-04-1 ┆ 02:04     ┆ … ┆ Facebook  ┆ co      ┆ Comentari ┆ [\"fanny\", │\n",
       "│            ┆ Mendoza   ┆ 0         ┆ Ahora pre ┆   ┆           ┆         ┆ o         ┆ \"izquierd │\n",
       "│            ┆ FANNY LOS ┆ 23:58:52  ┆ sidente   ┆   ┆           ┆         ┆           ┆ o\"]       │\n",
       "│            ┆ DEMAS …   ┆           ┆ de la C…  ┆   ┆           ┆         ┆           ┆           │\n",
       "└────────────┴───────────┴───────────┴───────────┴───┴───────────┴─────────┴───────────┴───────────┘"
      ]
     },
     "execution_count": 14,
     "metadata": {},
     "output_type": "execute_result"
    }
   ],
   "source": [
    "# File Reading\n",
    "df = local_reading(path=path_df_processed, lib='polars', format='parquet')\n",
    "print(df.shape)\n",
    "df.head(3)"
   ]
  },
  {
   "cell_type": "code",
   "execution_count": 15,
   "metadata": {},
   "outputs": [
    {
     "data": {
      "text/plain": [
       "(datetime.datetime(2025, 4, 1, 0, 0, 2),\n",
       " datetime.datetime(2025, 4, 30, 23, 58, 59))"
      ]
     },
     "execution_count": 15,
     "metadata": {},
     "output_type": "execute_result"
    }
   ],
   "source": [
    "df['date'].min(), df['date'].max()"
   ]
  },
  {
   "cell_type": "markdown",
   "metadata": {},
   "source": [
    "<h2>Selection of the K value</h2>\n",
    "<hr>\n",
    "\n",
    "The coherence grafic help for the k selection. The process give a recommend K value (requiere adjustment). Is recommend the Elbow method, selecting the inflection point for the coherence. Is not strictly necesary, you can select different k values and experiment , the grafic can help you selection  the best K. In theory higer coherence  the better, but also a higer k value can became in dificult task to understand."
   ]
  },
  {
   "cell_type": "code",
   "execution_count": 17,
   "metadata": {},
   "outputs": [
    {
     "data": {
      "text/plain": [
       "'C:/Users/Santi/Documents/atinna/repos/escuchas\\\\Azul\\\\espectro_politico\\\\2025-04-01_2025-04-30\\\\v3.0\\\\lda\\\\models'"
      ]
     },
     "execution_count": 17,
     "metadata": {},
     "output_type": "execute_result"
    }
   ],
   "source": [
    "path_models"
   ]
  },
  {
   "cell_type": "code",
   "execution_count": 19,
   "metadata": {},
   "outputs": [
    {
     "name": "stderr",
     "output_type": "stream",
     "text": [
      "2025-05-29 19:18:46,856 - INFO - nlp_lda_optimized - local_reading - Reading data from: C:/Users/Santi/Documents/atinna/repos/escuchas\\Azul\\espectro_politico\\2025-04-01_2025-04-30\\v3.0\\lda\\models\\coherence_summary.parquet with library: polars\n",
      "2025-05-29 19:18:46,865 - INFO - nlp_viz_optimized - coherence_graphic_process - Loaded coherence results from C:/Users/Santi/Documents/atinna/repos/escuchas\\Azul\\espectro_politico\\2025-04-01_2025-04-30\\v3.0\\lda\\models\\coherence_summary.parquet\n"
     ]
    },
    {
     "data": {
      "image/png": "[encoded data removed]",
      "text/plain": [
       "<Figure size 1400x700 with 1 Axes>"
      ]
     },
     "metadata": {},
     "output_type": "display_data"
    }
   ],
   "source": [
    "# Coherence Graphic\n",
    "coherence_graphic_process(k=k, path_models_dir=path_models, coherence_results_filename_base=\"coherence_summary\")"
   ]
  },
  {
   "cell_type": "code",
   "execution_count": 20,
   "metadata": {},
   "outputs": [],
   "source": [
    "NUM_TOPICS=4\n",
    "num_words=20"
   ]
  },
  {
   "cell_type": "code",
   "execution_count": 21,
   "metadata": {},
   "outputs": [
    {
     "name": "stderr",
     "output_type": "stream",
     "text": [
      "2025-05-29 19:19:09,954 - INFO - 2714453934 - <module> - Iniciando Clasification_Vizualization_lda_process con k=4\n",
      "2025-05-29 19:19:09,955 - INFO - nlp_viz_optimized - Clasification_Vizualization_lda_process - Starting LDA classification and visualization process...\n",
      "2025-05-29 19:19:09,957 - INFO - nlp_viz_optimized - Clasification_Vizualization_lda_process - Loading LDA model for k=4...\n",
      "2025-05-29 19:19:09,957 - ERROR - nlp_viz_optimized - Clasification_Vizualization_lda_process - Error loading LDA model: load_gensim_lda_model() got an unexpected keyword argument 'path_models'\n"
     ]
    },
    {
     "ename": "UnboundLocalError",
     "evalue": "cannot access local variable 'lda_model' where it is not associated with a value",
     "output_type": "error",
     "traceback": [
      "\u001b[1;31m---------------------------------------------------------------------------\u001b[0m",
      "\u001b[1;31mTypeError\u001b[0m                                 Traceback (most recent call last)",
      "File \u001b[1;32mc:\\Users\\Santi\\Documents\\atinna\\repos\\social-analysis\\lda\\nlp_viz_optimized.py:880\u001b[0m, in \u001b[0;36mClasification_Vizualization_lda_process\u001b[1;34m(df_processed_text, NUM_TOPICS, path_models_dir, path_figures_dir, path_output_data_dir, num_words_display, use_ai_topic_naming, openai_api_key, ai_context_for_naming)\u001b[0m\n\u001b[0;32m    879\u001b[0m \u001b[38;5;28;01mtry\u001b[39;00m:\n\u001b[1;32m--> 880\u001b[0m     lda_model \u001b[38;5;241m=\u001b[39m \u001b[43mload_gensim_lda_model\u001b[49m\u001b[43m(\u001b[49m\u001b[43mpath_models\u001b[49m\u001b[38;5;241;43m=\u001b[39;49m\u001b[43mpath_models_dir\u001b[49m\u001b[43m,\u001b[49m\u001b[43m \u001b[49m\u001b[43mNUM_TOPICS\u001b[49m\u001b[38;5;241;43m=\u001b[39;49m\u001b[43mNUM_TOPICS\u001b[49m\u001b[43m)\u001b[49m\n\u001b[0;32m    881\u001b[0m \u001b[38;5;28;01mexcept\u001b[39;00m \u001b[38;5;167;01mFileNotFoundError\u001b[39;00m:\n",
      "\u001b[1;31mTypeError\u001b[0m: load_gensim_lda_model() got an unexpected keyword argument 'path_models'",
      "\nDuring handling of the above exception, another exception occurred:\n",
      "\u001b[1;31mUnboundLocalError\u001b[0m                         Traceback (most recent call last)",
      "Cell \u001b[1;32mIn[21], line 3\u001b[0m\n\u001b[0;32m      1\u001b[0m logger\u001b[38;5;241m.\u001b[39minfo(\u001b[38;5;124mf\u001b[39m\u001b[38;5;124m\"\u001b[39m\u001b[38;5;124mIniciando Clasification_Vizualization_lda_process con k=\u001b[39m\u001b[38;5;132;01m{\u001b[39;00mNUM_TOPICS\u001b[38;5;132;01m}\u001b[39;00m\u001b[38;5;124m\"\u001b[39m)\n\u001b[1;32m----> 3\u001b[0m df_out, model \u001b[38;5;241m=\u001b[39m \u001b[43mClasification_Vizualization_lda_process\u001b[49m\u001b[43m(\u001b[49m\n\u001b[0;32m      4\u001b[0m \u001b[43m    \u001b[49m\u001b[43mdf_processed_text\u001b[49m\u001b[38;5;241;43m=\u001b[39;49m\u001b[43mdf\u001b[49m\u001b[43m,\u001b[49m\n\u001b[0;32m      5\u001b[0m \u001b[43m    \u001b[49m\u001b[43mNUM_TOPICS\u001b[49m\u001b[38;5;241;43m=\u001b[39;49m\u001b[43mNUM_TOPICS\u001b[49m\u001b[43m,\u001b[49m\n\u001b[0;32m      6\u001b[0m \u001b[43m    \u001b[49m\u001b[43mpath_models_dir\u001b[49m\u001b[38;5;241;43m=\u001b[39;49m\u001b[43mpath_models\u001b[49m\u001b[43m,\u001b[49m\n\u001b[0;32m      7\u001b[0m \u001b[43m    \u001b[49m\u001b[43mpath_figures_dir\u001b[49m\u001b[38;5;241;43m=\u001b[39;49m\u001b[43mpath_figures\u001b[49m\u001b[43m,\u001b[49m\n\u001b[0;32m      8\u001b[0m \u001b[43m    \u001b[49m\u001b[43mpath_output_data_dir\u001b[49m\u001b[38;5;241;43m=\u001b[39;49m\u001b[43mpath_output\u001b[49m\u001b[43m,\u001b[49m\n\u001b[0;32m      9\u001b[0m \u001b[43m    \u001b[49m\u001b[43mnum_words_display\u001b[49m\u001b[38;5;241;43m=\u001b[39;49m\u001b[43mnum_words\u001b[49m\u001b[43m,\u001b[49m\n\u001b[0;32m     10\u001b[0m \u001b[43m    \u001b[49m\u001b[43muse_ai_topic_naming\u001b[49m\u001b[38;5;241;43m=\u001b[39;49m\u001b[38;5;28;43;01mTrue\u001b[39;49;00m\u001b[43m,\u001b[49m\n\u001b[0;32m     11\u001b[0m \u001b[43m    \u001b[49m\u001b[43mopenai_api_key\u001b[49m\u001b[38;5;241;43m=\u001b[39;49m\u001b[43mopenai_key\u001b[49m\u001b[43m,\u001b[49m\n\u001b[0;32m     12\u001b[0m \u001b[43m    \u001b[49m\u001b[43mai_context_for_naming\u001b[49m\u001b[38;5;241;43m=\u001b[39;49m\u001b[43mcontexto\u001b[49m\n\u001b[0;32m     13\u001b[0m \u001b[43m)\u001b[49m\n\u001b[0;32m     15\u001b[0m \u001b[38;5;28;01mif\u001b[39;00m df_out \u001b[38;5;129;01mis\u001b[39;00m \u001b[38;5;129;01mnot\u001b[39;00m \u001b[38;5;28;01mNone\u001b[39;00m:\n\u001b[0;32m     16\u001b[0m     logger\u001b[38;5;241m.\u001b[39minfo(\u001b[38;5;124m\"\u001b[39m\u001b[38;5;124mProceso de clasificación y visualización completado.\u001b[39m\u001b[38;5;124m\"\u001b[39m)\n",
      "File \u001b[1;32mc:\\Users\\Santi\\Documents\\atinna\\repos\\social-analysis\\lda\\nlp_viz_optimized.py:886\u001b[0m, in \u001b[0;36mClasification_Vizualization_lda_process\u001b[1;34m(df_processed_text, NUM_TOPICS, path_models_dir, path_figures_dir, path_output_data_dir, num_words_display, use_ai_topic_naming, openai_api_key, ai_context_for_naming)\u001b[0m\n\u001b[0;32m    884\u001b[0m \u001b[38;5;28;01mexcept\u001b[39;00m \u001b[38;5;167;01mException\u001b[39;00m \u001b[38;5;28;01mas\u001b[39;00m e_load_model:\n\u001b[0;32m    885\u001b[0m     logger\u001b[38;5;241m.\u001b[39merror(\u001b[38;5;124mf\u001b[39m\u001b[38;5;124m\"\u001b[39m\u001b[38;5;124mError loading LDA model: \u001b[39m\u001b[38;5;132;01m{\u001b[39;00me_load_model\u001b[38;5;132;01m}\u001b[39;00m\u001b[38;5;124m\"\u001b[39m)\n\u001b[1;32m--> 886\u001b[0m     \u001b[38;5;28;01mreturn\u001b[39;00m \u001b[38;5;28;01mNone\u001b[39;00m, \u001b[43mlda_model\u001b[49m \u001b[38;5;66;03m# Devolver modelo si se cargó parcialmente\u001b[39;00m\n\u001b[0;32m    888\u001b[0m \u001b[38;5;66;03m# 2. Cargar corpus y diccionario (necesarios para PyLDAvis y clasificación)\u001b[39;00m\n\u001b[0;32m    889\u001b[0m logger\u001b[38;5;241m.\u001b[39minfo(\u001b[38;5;124m\"\u001b[39m\u001b[38;5;124mLoading corpus and dictionary...\u001b[39m\u001b[38;5;124m\"\u001b[39m)\n",
      "\u001b[1;31mUnboundLocalError\u001b[0m: cannot access local variable 'lda_model' where it is not associated with a value"
     ]
    }
   ],
   "source": [
    "logger.info(f\"Iniciando Clasification_Vizualization_lda_process con k={NUM_TOPICS}\")\n",
    "\n",
    "df_out, model = Clasification_Vizualization_lda_process(\n",
    "    df_processed_text=df,\n",
    "    NUM_TOPICS=NUM_TOPICS,\n",
    "    path_models_dir=path_models,\n",
    "    path_figures_dir=path_figures,\n",
    "    path_output_data_dir=path_output,\n",
    "    num_words_display=num_words,\n",
    "    use_ai_topic_naming=True,\n",
    "    openai_api_key=openai_key,\n",
    "    ai_context_for_naming=contexto\n",
    ")\n",
    "\n",
    "if df_out is not None:\n",
    "    logger.info(\"Proceso de clasificación y visualización completado.\")\n",
    "    # Ahora puedes trabajar con df_clasificado_y_analizado y modelo_lda_cargado\n",
    "    # print(df_clasificado_y_analizado.head())\n",
    "else:\n",
    "    logger.error(\"El proceso de clasificación y visualización falló.\")"
   ]
  },
  {
   "cell_type": "code",
   "execution_count": 19,
   "metadata": {},
   "outputs": [
    {
     "ename": "TypeError",
     "evalue": "Clasification_Vizualization_lda_process() got an unexpected keyword argument 'df'",
     "output_type": "error",
     "traceback": [
      "\u001b[1;31m---------------------------------------------------------------------------\u001b[0m",
      "\u001b[1;31mTypeError\u001b[0m                                 Traceback (most recent call last)",
      "Cell \u001b[1;32mIn[19], line 1\u001b[0m\n\u001b[1;32m----> 1\u001b[0m df_out, model \u001b[38;5;241m=\u001b[39m \u001b[43mClasification_Vizualization_lda_process\u001b[49m\u001b[43m(\u001b[49m\n\u001b[0;32m      2\u001b[0m \u001b[43m    \u001b[49m\u001b[43mdf\u001b[49m\u001b[38;5;241;43m=\u001b[39;49m\u001b[43mdf\u001b[49m\u001b[43m,\u001b[49m\n\u001b[0;32m      3\u001b[0m \u001b[43m    \u001b[49m\u001b[43mNUM_TOPICS\u001b[49m\u001b[38;5;241;43m=\u001b[39;49m\u001b[43mNUM_TOPICS\u001b[49m\u001b[43m,\u001b[49m\n\u001b[0;32m      4\u001b[0m \u001b[43m    \u001b[49m\u001b[43mpath_models\u001b[49m\u001b[38;5;241;43m=\u001b[39;49m\u001b[43mpath_models\u001b[49m\u001b[43m,\u001b[49m\n\u001b[0;32m      5\u001b[0m \u001b[43m    \u001b[49m\u001b[43mpath_output\u001b[49m\u001b[38;5;241;43m=\u001b[39;49m\u001b[43mpath_output\u001b[49m\u001b[43m,\u001b[49m\n\u001b[0;32m      6\u001b[0m \u001b[43m    \u001b[49m\u001b[43mpath_figures\u001b[49m\u001b[38;5;241;43m=\u001b[39;49m\u001b[43mpath_figures\u001b[49m\u001b[43m,\u001b[49m\n\u001b[0;32m      7\u001b[0m \u001b[43m    \u001b[49m\u001b[43mnum_words\u001b[49m\u001b[38;5;241;43m=\u001b[39;49m\u001b[43mnum_words\u001b[49m\u001b[43m,\u001b[49m\n\u001b[0;32m      8\u001b[0m \u001b[43m    \u001b[49m\u001b[43moptimization\u001b[49m\u001b[38;5;241;43m=\u001b[39;49m\u001b[38;5;28;43;01mTrue\u001b[39;49;00m\u001b[43m,\u001b[49m\n\u001b[0;32m      9\u001b[0m \u001b[43m    \u001b[49m\u001b[43mTopic_assistant\u001b[49m\u001b[38;5;241;43m=\u001b[39;49m\u001b[38;5;28;43;01mTrue\u001b[39;49;00m\u001b[43m,\u001b[49m\n\u001b[0;32m     10\u001b[0m \u001b[43m    \u001b[49m\u001b[43massistant_key\u001b[49m\u001b[38;5;241;43m=\u001b[39;49m\u001b[43mopenai_key\u001b[49m\u001b[43m,\u001b[49m\n\u001b[0;32m     11\u001b[0m \u001b[43m    \u001b[49m\u001b[43mcontexto\u001b[49m\u001b[38;5;241;43m=\u001b[39;49m\u001b[43mcontexto\u001b[49m\u001b[43m,\u001b[49m\n\u001b[0;32m     12\u001b[0m \u001b[43m)\u001b[49m\n",
      "\u001b[1;31mTypeError\u001b[0m: Clasification_Vizualization_lda_process() got an unexpected keyword argument 'df'"
     ]
    }
   ],
   "source": [
    "df_out, model = Clasification_Vizualization_lda_process(\n",
    "    df=df,\n",
    "    NUM_TOPICS=NUM_TOPICS,\n",
    "    path_models=path_models,\n",
    "    path_output=path_output,\n",
    "    path_figures=path_figures,\n",
    "    num_words=num_words,\n",
    "    optimization=True,\n",
    "    Topic_assistant=True,\n",
    "    assistant_key=openai_key,\n",
    "    contexto=contexto,\n",
    ")"
   ]
  },
  {
   "cell_type": "code",
   "execution_count": null,
   "metadata": {},
   "outputs": [],
   "source": [
    "df_out.shape"
   ]
  },
  {
   "cell_type": "markdown",
   "metadata": {},
   "source": [
    "## Word importance and count for each topic."
   ]
  },
  {
   "cell_type": "code",
   "execution_count": 22,
   "metadata": {},
   "outputs": [],
   "source": [
    "word_relevance= [local_reading(path=path_output+i) for i in os.listdir(path_output) if 'words_global'in i]\n",
    "word_relevance[0]"
   ]
  },
  {
   "cell_type": "markdown",
   "metadata": {},
   "source": [
    "# Topic distribution"
   ]
  },
  {
   "cell_type": "code",
   "execution_count": null,
   "metadata": {},
   "outputs": [],
   "source": [
    "df_out.shape"
   ]
  },
  {
   "cell_type": "code",
   "execution_count": null,
   "metadata": {},
   "outputs": [],
   "source": [
    "df_out['Topic'].value_counts().to_frame()"
   ]
  },
  {
   "cell_type": "code",
   "execution_count": null,
   "metadata": {},
   "outputs": [],
   "source": [
    "#Percentage\n",
    "df_out['Topic'].value_counts(normalize=True).to_frame()"
   ]
  },
  {
   "cell_type": "markdown",
   "metadata": {},
   "source": [
    "# Sync"
   ]
  },
  {
   "cell_type": "code",
   "execution_count": null,
   "metadata": {},
   "outputs": [],
   "source": [
    "mg.upload_folder(headers, site_id, dev_folder_id, paths.paths['local']['output']['lda']['base'], paths.paths['cloud']['output']['lda']['base'], separator=\"/\", conflict_behavior=\"fail\", skip_on_error=False)"
   ]
  }
 ],
 "metadata": {
  "kernelspec": {
   "display_name": "social-analysis",
   "language": "python",
   "name": "python3"
  },
  "language_info": {
   "codemirror_mode": {
    "name": "ipython",
    "version": 3
   },
   "file_extension": ".py",
   "mimetype": "text/x-python",
   "name": "python",
   "nbconvert_exporter": "python",
   "pygments_lexer": "ipython3",
   "version": "3.11.11"
  }
 },
 "nbformat": 4,
 "nbformat_minor": 2
}
